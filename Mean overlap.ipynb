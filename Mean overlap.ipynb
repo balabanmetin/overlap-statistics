{
 "cells": [
  {
   "cell_type": "code",
   "execution_count": 100,
   "metadata": {},
   "outputs": [
    {
     "name": "stdout",
     "output_type": "stream",
     "text": [
      "[[ 0.  0.  0. ...,  0.  0.  0.]\n",
      " [ 0.  0.  0. ...,  0.  0.  0.]\n",
      " [ 0.  0.  0. ...,  0.  0.  0.]\n",
      " ..., \n",
      " [ 0.  0.  0. ...,  0.  0.  0.]\n",
      " [ 0.  0.  0. ...,  0.  0.  0.]\n",
      " [ 0.  0.  0. ...,  0.  0.  0.]]\n"
     ]
    }
   ],
   "source": [
    "import numpy as np\n",
    "\n",
    "\n",
    "m=2000\n",
    "n=2000\n",
    "a=np.zeros((m,n))\n",
    "print(a)\n",
    "\n"
   ]
  },
  {
   "cell_type": "code",
   "execution_count": 101,
   "metadata": {},
   "outputs": [
    {
     "name": "stdout",
     "output_type": "stream",
     "text": [
      "[[ 1.  1.  0. ...,  0.  0.  0.]\n",
      " [ 1.  0.  0. ...,  0.  1.  0.]\n",
      " [ 0.  0.  1. ...,  1.  0.  0.]\n",
      " ..., \n",
      " [ 1.  1.  0. ...,  1.  0.  0.]\n",
      " [ 0.  1.  0. ...,  0.  1.  1.]\n",
      " [ 0.  0.  1. ...,  0.  0.  0.]]\n"
     ]
    }
   ],
   "source": [
    "for i in range(m):\n",
    "    for j in range (n):\n",
    "        a[i,j] = np.random.randint(2)\n",
    "print(a)"
   ]
  },
  {
   "cell_type": "code",
   "execution_count": 102,
   "metadata": {},
   "outputs": [
    {
     "data": {
      "text/plain": [
       "499.76767233616806"
      ]
     },
     "execution_count": 102,
     "metadata": {},
     "output_type": "execute_result"
    }
   ],
   "source": [
    "# this is the brute force approach. First we calculate A*A^T then we average upper triangle elements\n",
    "# excluding the main diagonal.\n",
    "def upper_tri_masking(A):\n",
    "    m = A.shape[0]\n",
    "    r = np.arange(m)\n",
    "    mask = r[:,None] < r\n",
    "    return A[mask]\n",
    "\n",
    "def average_brute_force(a):\n",
    "    return np.mean(upper_tri_masking(a.dot(a.transpose())))\n",
    "\n",
    "average_brute_force(a)"
   ]
  },
  {
   "cell_type": "code",
   "execution_count": 103,
   "metadata": {},
   "outputs": [
    {
     "name": "stdout",
     "output_type": "stream",
     "text": [
      "10 loops, best of 3: 168 ms per loop\n"
     ]
    }
   ],
   "source": [
    "%timeit average_brute_force(a)"
   ]
  },
  {
   "cell_type": "code",
   "execution_count": 104,
   "metadata": {},
   "outputs": [
    {
     "data": {
      "text/plain": [
       "499.76767233616812"
      ]
     },
     "execution_count": 104,
     "metadata": {},
     "output_type": "execute_result"
    }
   ],
   "source": [
    "# This is the clever approach. Sum of upper triangle elements excluding the main diagonal is \n",
    "# (e^T*A*A^T*e  - Tr(A*A^T))/2 where e is column vector of ones.\n",
    "def average_clever(a):\n",
    "    s=np.sum(a, axis=0)\n",
    "    t=s.dot(s)\n",
    "    x=sum(s)\n",
    "    m = a.shape[0]   \n",
    "    return (t-x)/m/(m-1)\n",
    "\n",
    "average_clever(a)     "
   ]
  },
  {
   "cell_type": "code",
   "execution_count": 105,
   "metadata": {},
   "outputs": [
    {
     "name": "stdout",
     "output_type": "stream",
     "text": [
      "100 loops, best of 3: 2.98 ms per loop\n"
     ]
    }
   ],
   "source": [
    "%timeit average_clever(a)"
   ]
  },
  {
   "cell_type": "code",
   "execution_count": null,
   "metadata": {
    "collapsed": true
   },
   "outputs": [],
   "source": []
  }
 ],
 "metadata": {
  "kernelspec": {
   "display_name": "Python 2",
   "language": "python",
   "name": "python2"
  },
  "language_info": {
   "codemirror_mode": {
    "name": "ipython",
    "version": 2
   },
   "file_extension": ".py",
   "mimetype": "text/x-python",
   "name": "python",
   "nbconvert_exporter": "python",
   "pygments_lexer": "ipython2",
   "version": "2.7.13"
  }
 },
 "nbformat": 4,
 "nbformat_minor": 2
}
