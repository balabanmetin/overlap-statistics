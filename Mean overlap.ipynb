{
 "cells": [
  {
   "cell_type": "code",
   "execution_count": 20,
   "metadata": {},
   "outputs": [],
   "source": [
    "# Consider a binary matrix A where rows are alignments and columns are sites.\n",
    "# In this matrix, 1 indicates a nongap (e.g A,C,G,T) and 0 indicates gap (-) character.\n",
    "# For a randomly chosen pair of alignments what would be expected number of sites where\n",
    "# both alignments have a non-gap character?\n",
    "#\n",
    "# The trivial algorithm is O(mn^2) where n is number of rows and m is number of columns.\n",
    "# Clever algorithm is O(nm)."
   ]
  },
  {
   "cell_type": "code",
   "execution_count": 21,
   "metadata": {},
   "outputs": [
    {
     "name": "stdout",
     "output_type": "stream",
     "text": [
      "[[0. 0. 0. ... 0. 0. 0.]\n",
      " [0. 0. 0. ... 0. 0. 0.]\n",
      " [0. 0. 0. ... 0. 0. 0.]\n",
      " ...\n",
      " [0. 0. 0. ... 0. 0. 0.]\n",
      " [0. 0. 0. ... 0. 0. 0.]\n",
      " [0. 0. 0. ... 0. 0. 0.]]\n"
     ]
    }
   ],
   "source": [
    "import numpy as np\n",
    "\n",
    "\n",
    "m=2000\n",
    "n=2000\n",
    "a=np.zeros((m,n))\n",
    "print(a)\n",
    "\n"
   ]
  },
  {
   "cell_type": "code",
   "execution_count": 22,
   "metadata": {},
   "outputs": [
    {
     "name": "stdout",
     "output_type": "stream",
     "text": [
      "[[1. 1. 0. ... 0. 0. 0.]\n",
      " [0. 0. 1. ... 1. 0. 0.]\n",
      " [0. 0. 1. ... 0. 0. 0.]\n",
      " ...\n",
      " [1. 0. 1. ... 1. 1. 1.]\n",
      " [1. 1. 1. ... 0. 0. 1.]\n",
      " [1. 0. 0. ... 1. 0. 0.]]\n"
     ]
    }
   ],
   "source": [
    "for i in range(m):\n",
    "    for j in range (n):\n",
    "        a[i,j] = np.random.randint(2)\n",
    "print(a)"
   ]
  },
  {
   "cell_type": "code",
   "execution_count": 23,
   "metadata": {},
   "outputs": [
    {
     "data": {
      "text/plain": [
       "500.42581340670336"
      ]
     },
     "execution_count": 23,
     "metadata": {},
     "output_type": "execute_result"
    }
   ],
   "source": [
    "# this is the brute force approach. First we calculate A*A^T then we average upper triangle elements\n",
    "# excluding the main diagonal.\n",
    "def upper_tri_masking(A):\n",
    "    m = A.shape[0]\n",
    "    r = np.arange(m)\n",
    "    mask = r[:,None] < r\n",
    "    return A[mask]\n",
    "\n",
    "def average_brute_force(a):\n",
    "    return np.mean(upper_tri_masking(a.dot(a.transpose())))\n",
    "\n",
    "average_brute_force(a)"
   ]
  },
  {
   "cell_type": "code",
   "execution_count": 24,
   "metadata": {},
   "outputs": [
    {
     "name": "stdout",
     "output_type": "stream",
     "text": [
      "129 ms ± 1.77 ms per loop (mean ± std. dev. of 7 runs, 10 loops each)\n"
     ]
    }
   ],
   "source": [
    "%timeit average_brute_force(a)"
   ]
  },
  {
   "cell_type": "code",
   "execution_count": 25,
   "metadata": {},
   "outputs": [
    {
     "data": {
      "text/plain": [
       "500.42581340670336"
      ]
     },
     "execution_count": 25,
     "metadata": {},
     "output_type": "execute_result"
    }
   ],
   "source": [
    "# This is the clever approach. Sum of upper triangle elements excluding the main diagonal is \n",
    "# (e^T*A*A^T*e  - Tr(A*A^T))/2 where e is column vector of ones.\n",
    "def average_clever(a):\n",
    "    s=np.sum(a, axis=0)\n",
    "    t=s.dot(s)\n",
    "    x=sum(s)\n",
    "    m = a.shape[0]   \n",
    "    return (t-x)/m/(m-1)\n",
    "\n",
    "average_clever(a)     "
   ]
  },
  {
   "cell_type": "code",
   "execution_count": 26,
   "metadata": {},
   "outputs": [
    {
     "name": "stdout",
     "output_type": "stream",
     "text": [
      "2.32 ms ± 231 µs per loop (mean ± std. dev. of 7 runs, 100 loops each)\n"
     ]
    }
   ],
   "source": [
    "%timeit average_clever(a)"
   ]
  },
  {
   "cell_type": "code",
   "execution_count": 27,
   "metadata": {},
   "outputs": [
    {
     "name": "stdout",
     "output_type": "stream",
     "text": [
      "3.4\n",
      "3.0\n",
      "4.0\n"
     ]
    }
   ],
   "source": [
    "# example\n",
    "\n",
    "import numpy as np\n",
    "\n",
    "# mean overlap is 3.4\n",
    "x = np.array(\n",
    "    [ [1,1,1,1,0],\n",
    "      [1,1,1,1,0],\n",
    "      [1,1,1,1,0],\n",
    "      [0,1,1,1,1],\n",
    "      [0,1,1,1,1]\n",
    "    ])\n",
    "\n",
    "# mean overlap is 3. in fact every pair or rows exactly have overlap 3.\n",
    "y = np.array(\n",
    "    [ [1,1,1,1,0],\n",
    "      [1,1,1,0,1],\n",
    "      [1,1,0,1,1],\n",
    "      [1,0,1,1,1],\n",
    "      [0,1,1,1,1]\n",
    "    ])\n",
    "# mean overlap is 4.\n",
    "z = np.array(\n",
    "    [ [1,1,1,1,0],\n",
    "      [1,1,1,1,0],\n",
    "      [1,1,1,1,0],\n",
    "      [1,1,1,1,0],\n",
    "      [1,1,1,1,0]\n",
    "    ])\n",
    "print(average_clever(x))\n",
    "print(average_clever(y))\n",
    "print(average_clever(z))"
   ]
  },
  {
   "cell_type": "code",
   "execution_count": null,
   "metadata": {},
   "outputs": [],
   "source": []
  }
 ],
 "metadata": {
  "kernelspec": {
   "display_name": "Python 3",
   "language": "python",
   "name": "python3"
  },
  "language_info": {
   "codemirror_mode": {
    "name": "ipython",
    "version": 3
   },
   "file_extension": ".py",
   "mimetype": "text/x-python",
   "name": "python",
   "nbconvert_exporter": "python",
   "pygments_lexer": "ipython3",
   "version": "3.5.5"
  }
 },
 "nbformat": 4,
 "nbformat_minor": 2
}
